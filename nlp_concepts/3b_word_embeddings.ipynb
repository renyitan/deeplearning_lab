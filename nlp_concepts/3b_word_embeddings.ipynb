{
 "cells": [
  {
   "cell_type": "code",
   "execution_count": 1,
   "metadata": {},
   "outputs": [],
   "source": [
    "import tensorflow as tf\n",
    "from tensorflow import keras\n",
    "from tensorflow.keras.preprocessing.text import one_hot"
   ]
  },
  {
   "cell_type": "code",
   "execution_count": 4,
   "metadata": {},
   "outputs": [
    {
     "data": {
      "text/plain": [
       "['the glass of milk',\n",
       " 'the glass of juice',\n",
       " 'the cup of tea',\n",
       " 'I am a good boy',\n",
       " 'I am a good developer',\n",
       " 'understand the meaning of words',\n",
       " 'your videos are good']"
      ]
     },
     "execution_count": 4,
     "metadata": {},
     "output_type": "execute_result"
    }
   ],
   "source": [
    "sentences=[  'the glass of milk',\n",
    "     'the glass of juice',\n",
    "     'the cup of tea',\n",
    "    'I am a good boy',\n",
    "     'I am a good developer',\n",
    "     'understand the meaning of words',\n",
    "     'your videos are good',]\n",
    "sentences"
   ]
  },
  {
   "cell_type": "code",
   "execution_count": 5,
   "metadata": {},
   "outputs": [],
   "source": [
    "# initialise vocab size (needed by one_hot encoder)\n",
    "vocabulary_size = 10000"
   ]
  },
  {
   "cell_type": "markdown",
   "metadata": {},
   "source": [
    "### One Hot Representation"
   ]
  },
  {
   "cell_type": "code",
   "execution_count": 8,
   "metadata": {},
   "outputs": [
    {
     "data": {
      "text/plain": [
       "[[5305, 9219, 3091, 8300],\n",
       " [5305, 9219, 3091, 5134],\n",
       " [5305, 8467, 3091, 5836],\n",
       " [8488, 7639, 1940, 2775, 8139],\n",
       " [8488, 7639, 1940, 2775, 6517],\n",
       " [4465, 5305, 413, 3091, 9732],\n",
       " [6112, 2885, 5253, 2775]]"
      ]
     },
     "execution_count": 8,
     "metadata": {},
     "output_type": "execute_result"
    }
   ],
   "source": [
    "one_hot_representation = [one_hot(word, vocabulary_size) for word in sentences]\n",
    "one_hot_representation"
   ]
  },
  {
   "cell_type": "markdown",
   "metadata": {},
   "source": [
    "### Word Embedding Representation"
   ]
  },
  {
   "cell_type": "code",
   "execution_count": 17,
   "metadata": {},
   "outputs": [],
   "source": [
    "from tensorflow.keras.layers import Embedding\n",
    "from tensorflow.keras.models import Sequential\n",
    "from tensorflow.keras.preprocessing.sequence import pad_sequences\n",
    "import numpy as np\n",
    "import math\n"
   ]
  },
  {
   "cell_type": "code",
   "execution_count": 19,
   "metadata": {},
   "outputs": [
    {
     "data": {
      "text/plain": [
       "array([[5305, 9219, 3091, 8300,    0,    0,    0,    0],\n",
       "       [5305, 9219, 3091, 5134,    0,    0,    0,    0],\n",
       "       [5305, 8467, 3091, 5836,    0,    0,    0,    0],\n",
       "       [8488, 7639, 1940, 2775, 8139,    0,    0,    0],\n",
       "       [8488, 7639, 1940, 2775, 6517,    0,    0,    0],\n",
       "       [4465, 5305,  413, 3091, 9732,    0,    0,    0],\n",
       "       [6112, 2885, 5253, 2775,    0,    0,    0,    0]], dtype=int32)"
      ]
     },
     "execution_count": 19,
     "metadata": {},
     "output_type": "execute_result"
    }
   ],
   "source": [
    "# sentences_length = [len(rep) for rep in one_hot_representation]\n",
    "# max_length = max(sentences_length)\n",
    "\n",
    "padded = pad_sequences(one_hot_representation, padding=\"post\", maxlen=8)\n",
    "padded\n"
   ]
  },
  {
   "cell_type": "code",
   "execution_count": 20,
   "metadata": {},
   "outputs": [],
   "source": [
    "# set number of word features / dimensions\n",
    "dims = 15"
   ]
  },
  {
   "cell_type": "code",
   "execution_count": 24,
   "metadata": {},
   "outputs": [],
   "source": [
    "model = Sequential()\n",
    "model.add(Embedding(vocabulary_size, dims, input_length=8))\n",
    "model.compile(optimizer=\"adam\", loss=\"mse\")"
   ]
  },
  {
   "cell_type": "code",
   "execution_count": 25,
   "metadata": {},
   "outputs": [
    {
     "name": "stdout",
     "output_type": "stream",
     "text": [
      "Model: \"sequential_3\"\n",
      "_________________________________________________________________\n",
      "Layer (type)                 Output Shape              Param #   \n",
      "=================================================================\n",
      "embedding (Embedding)        (None, 8, 15)             150000    \n",
      "=================================================================\n",
      "Total params: 150,000\n",
      "Trainable params: 150,000\n",
      "Non-trainable params: 0\n",
      "_________________________________________________________________\n"
     ]
    }
   ],
   "source": [
    "model.summary()"
   ]
  },
  {
   "cell_type": "code",
   "execution_count": 27,
   "metadata": {},
   "outputs": [],
   "source": [
    "y_predict = model.predict(padded)"
   ]
  },
  {
   "cell_type": "code",
   "execution_count": 28,
   "metadata": {},
   "outputs": [
    {
     "data": {
      "text/plain": [
       "array([[-0.03243159,  0.03894584, -0.02255585,  0.03705763, -0.02539045,\n",
       "         0.0050212 ,  0.01286564, -0.01472089,  0.01243739, -0.0386668 ,\n",
       "         0.03280267, -0.03563291, -0.03540761,  0.001395  ,  0.01222966],\n",
       "       [-0.04214566,  0.03893587,  0.047633  , -0.01741006,  0.00444462,\n",
       "         0.02162782, -0.01613265,  0.02670724,  0.00922976,  0.03591191,\n",
       "        -0.00718588, -0.03414162, -0.02848676, -0.00556102, -0.01119045],\n",
       "       [ 0.01458139,  0.03671593, -0.0064689 ,  0.0128732 ,  0.02358225,\n",
       "         0.00536178,  0.00716005, -0.04985807,  0.04758209,  0.02042777,\n",
       "         0.0055116 , -0.01175649, -0.03521267, -0.02941729,  0.02394195],\n",
       "       [ 0.04132408, -0.04446583, -0.02941412, -0.02392665, -0.02145866,\n",
       "        -0.00569179,  0.01903151, -0.03258298,  0.03748168,  0.03108878,\n",
       "         0.00434745, -0.01412719,  0.00450758,  0.0111858 , -0.01274691],\n",
       "       [-0.0263589 , -0.02272595, -0.04362947,  0.01302197, -0.03842043,\n",
       "        -0.01965245, -0.04014252,  0.00728333, -0.03651838,  0.0022467 ,\n",
       "         0.00518139, -0.04348546, -0.03716709,  0.03092046, -0.03345747],\n",
       "       [-0.0263589 , -0.02272595, -0.04362947,  0.01302197, -0.03842043,\n",
       "        -0.01965245, -0.04014252,  0.00728333, -0.03651838,  0.0022467 ,\n",
       "         0.00518139, -0.04348546, -0.03716709,  0.03092046, -0.03345747],\n",
       "       [-0.0263589 , -0.02272595, -0.04362947,  0.01302197, -0.03842043,\n",
       "        -0.01965245, -0.04014252,  0.00728333, -0.03651838,  0.0022467 ,\n",
       "         0.00518139, -0.04348546, -0.03716709,  0.03092046, -0.03345747],\n",
       "       [-0.0263589 , -0.02272595, -0.04362947,  0.01302197, -0.03842043,\n",
       "        -0.01965245, -0.04014252,  0.00728333, -0.03651838,  0.0022467 ,\n",
       "         0.00518139, -0.04348546, -0.03716709,  0.03092046, -0.03345747]],\n",
       "      dtype=float32)"
      ]
     },
     "execution_count": 28,
     "metadata": {},
     "output_type": "execute_result"
    }
   ],
   "source": [
    "y_predict[0]"
   ]
  },
  {
   "cell_type": "code",
   "execution_count": 30,
   "metadata": {},
   "outputs": [
    {
     "data": {
      "text/plain": [
       "[array([[-0.0263589 , -0.02272595, -0.04362947, ..., -0.03716709,\n",
       "          0.03092046, -0.03345747],\n",
       "        [-0.00259513,  0.04482089, -0.02629181, ..., -0.03773407,\n",
       "          0.04211772,  0.01599195],\n",
       "        [ 0.01623168, -0.03530085,  0.02973595, ..., -0.00976204,\n",
       "          0.00884013, -0.04394472],\n",
       "        ...,\n",
       "        [-0.00578544,  0.00283064, -0.02904643, ..., -0.00318997,\n",
       "          0.0263673 , -0.00819948],\n",
       "        [-0.02025265,  0.00412619,  0.02375838, ..., -0.02619876,\n",
       "          0.00672618, -0.03050303],\n",
       "        [-0.01006657,  0.03020277,  0.02829039, ..., -0.0373757 ,\n",
       "         -0.02255172,  0.01047849]], dtype=float32)]"
      ]
     },
     "execution_count": 30,
     "metadata": {},
     "output_type": "execute_result"
    }
   ],
   "source": [
    "model.get_weights()"
   ]
  },
  {
   "cell_type": "code",
   "execution_count": null,
   "metadata": {},
   "outputs": [],
   "source": []
  }
 ],
 "metadata": {
  "interpreter": {
   "hash": "4bd624a0593993fe43ac4046b27b898fb2ef75c21c08f81e89e64ea0f51df676"
  },
  "kernelspec": {
   "display_name": "Python 3.9.7 64-bit ('tensorflow': conda)",
   "language": "python",
   "name": "python3"
  },
  "language_info": {
   "codemirror_mode": {
    "name": "ipython",
    "version": 3
   },
   "file_extension": ".py",
   "mimetype": "text/x-python",
   "name": "python",
   "nbconvert_exporter": "python",
   "pygments_lexer": "ipython3",
   "version": "3.9.7"
  },
  "orig_nbformat": 4
 },
 "nbformat": 4,
 "nbformat_minor": 2
}
