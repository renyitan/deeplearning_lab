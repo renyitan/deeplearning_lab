{
 "cells": [
  {
   "cell_type": "markdown",
   "metadata": {},
   "source": [
    "# Loss Functions\n",
    "---"
   ]
  },
  {
   "cell_type": "markdown",
   "metadata": {},
   "source": [
    "**1. Mean Absolute Error**\n",
    "\n",
    "$\\text{Mean Absolute Error (MAE)} = {\\frac{1}{n}}{\\sum_{i=1}^{n} abs(y_i - {\\hat{y}_i})}$"
   ]
  },
  {
   "cell_type": "code",
   "execution_count": null,
   "metadata": {},
   "outputs": [],
   "source": [
    "model.compile(optimizer=\"adam\", \n",
    "              loss=\"mean_absolute_error\",\n",
    "              metrics=[\"accurary\"]\n",
    ")"
   ]
  },
  {
   "cell_type": "markdown",
   "metadata": {},
   "source": [
    "**2. Mean Squared Error**\n",
    "\n",
    "$\\text{Mean Squared Error (MSE)} = {\\frac{1}{n}}{\\sum_{i=1}^{n} (y_i - {\\hat{y}_i})^2}$"
   ]
  },
  {
   "cell_type": "code",
   "execution_count": null,
   "metadata": {},
   "outputs": [],
   "source": [
    "model.compile(optimizer=\"adam\", \n",
    "              loss=\"mean_square_error\",\n",
    "              metrics=[\"accurary\"]\n",
    ")"
   ]
  },
  {
   "cell_type": "markdown",
   "metadata": {},
   "source": [
    "**3. Binary Cross Entropy**\n",
    "\n",
    "_Also known as log loss_\n",
    "\n",
    "$\\text{Binary Cross Entropy}  = {\\frac{1}{n}}{\\sum_{i=1}^{n} y_i log({\\hat{y}_i}) + (1-y_i) \\cdot {\\log(1 - {\\hat{y_i}})}}$"
   ]
  },
  {
   "cell_type": "code",
   "execution_count": null,
   "metadata": {},
   "outputs": [],
   "source": [
    "model.compile(optimizer=\"adam\", \n",
    "              loss=\"binary_crossentropy\",\n",
    "              metrics=[\"accurary\"]\n",
    ")"
   ]
  },
  {
   "cell_type": "markdown",
   "metadata": {},
   "source": [
    "# Gradient Descent\n",
    "---"
   ]
  },
  {
   "cell_type": "markdown",
   "metadata": {},
   "source": [
    "In each epoch, assuming _log loss_\n",
    "\n",
    "**1. Calculate weight**\n",
    "\n",
    "$w = w - \\alpha * \\frac{\\partial}{\\partial w }$,  \n",
    "<br>where $w$ = weight, $\\alpha$ = learning rate\n",
    "\n",
    "\n",
    "$\\frac{\\partial}{\\partial w } = {\\frac{1}{n}}{\\sum_{i=1}^{n} x_i log({y_{\\text predicted}} - y_\\text{true})}$\n",
    "\n"
   ]
  },
  {
   "cell_type": "markdown",
   "metadata": {},
   "source": [
    "**2. Calculate bias**\n",
    "\n",
    "$bias = bias - \\alpha * \\frac{\\partial}{\\partial b }$,  \n",
    "<br>where $bias$ = bias, $\\alpha$ = learning rate\n",
    "\n",
    "\n",
    "$\\frac{\\partial}{\\partial b } = {\\frac{1}{n}}{\\sum_{i=1}^{n} ({y_{\\text predicted}} - y_\\text{true})}$\n"
   ]
  },
  {
   "cell_type": "code",
   "execution_count": 1,
   "metadata": {},
   "outputs": [],
   "source": [
    "# Code Sample\n",
    "\n",
    "def sigmoid_loss(y):\n",
    "    ...\n",
    "\n",
    "def log_loss(y_true, y_predicted):\n",
    "    ...\n",
    "\n",
    "\n",
    "def gradient_descent(x1, x2, y_true, epochs):\n",
    "    w1 = w2 = 1\n",
    "    bias = 0\n",
    "    learning_rate = 0.5\n",
    "    num_inputs = len(x1)\n",
    "    \n",
    "    for i in range(epochs):\n",
    "        weighted_sum = w1*x1 + w2*x2 + bias\n",
    "        y_predicted = sigmoid_loss(weighted_sum)\n",
    "        loss = log_loss(y_true, y_predicted)\n",
    "        \n",
    "        w1d = (1/num_inputs)*np.dot(np.transpose(w1), (y_predicted - y_true))\n",
    "        w2d = (1/num_inputs)*np.dot(np.transpose(w1), (y_predicted - y_true))\n",
    "        \n",
    "        bias_d = np.mean(y_predicted-y_true)\n",
    "        \n",
    "        w1 = w1 - learning_rate * w1d\n",
    "        w2 = w2 - learning_rate * w2d\n",
    "        bias = bias - learning_rate * bias_d\n",
    "        \n",
    "        print(f'Epoch: {i}, w1:{w1}, w2:{w2}, bias:{bias}, loss:{loss}')\n",
    "\n",
    "    \n",
    "    return w1, w2, bias"
   ]
  },
  {
   "cell_type": "markdown",
   "metadata": {},
   "source": [
    "# Dropout Regularization\n",
    "---"
   ]
  },
  {
   "cell_type": "markdown",
   "metadata": {},
   "source": [
    "Why will dropout help with overfitting?\n",
    "- It can't rely on one input as it might be dropped out at random\n",
    "- Neurons will not learn redundant details of inputs"
   ]
  },
  {
   "cell_type": "markdown",
   "metadata": {},
   "source": [
    "### Example (adding Dropout layer on `keras`)"
   ]
  },
  {
   "cell_type": "code",
   "execution_count": null,
   "metadata": {},
   "outputs": [],
   "source": [
    "model = keras.Sequential([\n",
    "  # input layer\n",
    "  keras.layers.Dense(60, input_dim=60, activation=\"relu\"),\n",
    "  keras.layers.Dropout(0.5),\n",
    "  # hidden layer(s)\n",
    "  keras.layers.Dense(60, activation=\"relu\"),\n",
    "  keras.layers.Dropout(0.5),\n",
    "  # output layer\n",
    "  keras.layers.Dense(1, activation=\"sigmoid)\n",
    "])"
   ]
  }
 ],
 "metadata": {
  "interpreter": {
   "hash": "31f2aee4e71d21fbe5cf8b01ff0e069b9275f58929596ceb00d14d90e3e16cd6"
  },
  "kernelspec": {
   "display_name": "Python 3.8.9 64-bit",
   "language": "python",
   "name": "python3"
  },
  "language_info": {
   "codemirror_mode": {
    "name": "ipython",
    "version": 3
   },
   "file_extension": ".py",
   "mimetype": "text/x-python",
   "name": "python",
   "nbconvert_exporter": "python",
   "pygments_lexer": "ipython3",
   "version": "3.8.9"
  },
  "orig_nbformat": 4
 },
 "nbformat": 4,
 "nbformat_minor": 2
}
