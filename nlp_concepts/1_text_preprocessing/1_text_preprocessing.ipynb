{
 "cells": [
  {
   "cell_type": "code",
   "execution_count": 10,
   "metadata": {},
   "outputs": [
    {
     "name": "stderr",
     "output_type": "stream",
     "text": [
      "[nltk_data] Downloading package punkt to /Users/tanrenyi/nltk_data...\n",
      "[nltk_data]   Package punkt is already up-to-date!\n"
     ]
    },
    {
     "data": {
      "text/plain": [
       "True"
      ]
     },
     "execution_count": 10,
     "metadata": {},
     "output_type": "execute_result"
    }
   ],
   "source": [
    "import nltk\n",
    "# nltk.download()\n",
    "# nltk.download('punkt')"
   ]
  },
  {
   "cell_type": "markdown",
   "metadata": {},
   "source": [
    "## Tokenization"
   ]
  },
  {
   "cell_type": "code",
   "execution_count": 8,
   "metadata": {},
   "outputs": [],
   "source": [
    "paragraph = \"\"\"The Monetary Authority of Singapore(MAS) came into being 50 years ago. It was conceived as a dedicated organisation to carry out the specialised functions of central banking and financial regulation. MAS’ responsibilities have expanded considerably since its inception, but its policy objectives remain the same. Low inflation, in support of sustained economic growth. Healthy official foreign reserves, a sound financial sector, resilient against shocks and a vibrant international financial centre, adding value and creating jobs. MAS has played a major role in Singapore’s economic and financial development. Its monetary policies and management of official reserves have sustained macroeconomic stability and confidence in Singapore. Its regulation and supervision of financial institutions have created a safe and internationally trusted financial system and its development strategies have made the financial sector an engine of growth, attracting investments and creating many good jobs. Key to this was MAS’ combination of caution and creativity: It adhered to sound economic principles, while creatively adapting policy frameworks to suit Singapore’s context. It set high regulatory and supervisory standards, while taking a facilitative and risk-proportionate approach. It ensured financial stability, while promoting innovation and seizing opportunities. MAS did not achieve this alone. It shares credit for the success with the broader Singapore system within which MAS operates. It enjoys the political stability, healthy public finances, good public administration, and the rule of law. These all enabled MAS to pursue its objectives, single-mindedly and professionally. MAS also collaborated closely with the private sector, tapping on industry expertise, listening carefully to feedback, co-creating infrastructure and solutions, and jointly promoting the development of financial markets.\"\"\"\n"
   ]
  },
  {
   "cell_type": "code",
   "execution_count": 13,
   "metadata": {},
   "outputs": [
    {
     "data": {
      "text/plain": [
       "['The Monetary Authority of Singapore(MAS) came into being 50 years ago.',\n",
       " 'It was conceived as a dedicated organisation to carry out the specialised functions of central banking and financial regulation.',\n",
       " 'MAS’ responsibilities have expanded considerably since its inception, but its policy objectives remain the same.',\n",
       " 'Low inflation, in support of sustained economic growth.',\n",
       " 'Healthy official foreign reserves, a sound financial sector, resilient against shocks and a vibrant international financial centre, adding value and creating jobs.']"
      ]
     },
     "execution_count": 13,
     "metadata": {},
     "output_type": "execute_result"
    }
   ],
   "source": [
    "# Tokenizing sentences => map paragraphs to sentences[] list\n",
    "sentences = nltk.sent_tokenize(paragraph)\n",
    "sentences[:5]"
   ]
  },
  {
   "cell_type": "code",
   "execution_count": 17,
   "metadata": {},
   "outputs": [
    {
     "data": {
      "text/plain": [
       "['The', 'Monetary', 'Authority', 'of', 'Singapore']"
      ]
     },
     "execution_count": 17,
     "metadata": {},
     "output_type": "execute_result"
    }
   ],
   "source": [
    "# tokenizing words => convert paragraphs to words\n",
    "words = nltk.word_tokenize(paragraph)\n",
    "words[:5]"
   ]
  },
  {
   "cell_type": "markdown",
   "metadata": {},
   "source": [
    "# Stemming and Lemmatization"
   ]
  },
  {
   "cell_type": "markdown",
   "metadata": {},
   "source": [
    "### Stemming\n",
    "\n",
    "> process of reducing inflected words to their word stem, base or root form—generally a written word form. (might lose meaning)\n",
    "\n",
    "['history', 'historical'] -> stem() -> history\n",
    "\n",
    "['finally', 'final', 'finzalized'] -> stem() -> fina\n",
    "\n",
    "['going', 'goes', 'gone'] -> stem() -> go\n",
    "\n",
    "\n",
    "### Lemmatization\n",
    "\n",
    "> grouping together the inflected forms of a word so they can be analysed as a single item, identified by the word's lemma, or dictionary form. (so they have meanings)\n",
    "\n",
    "['history', 'historical'] -> lemmatization() -> history\n",
    "\n",
    "['finally', 'final', 'finzalized'] -> stem() -> finally\n"
   ]
  },
  {
   "cell_type": "markdown",
   "metadata": {},
   "source": []
  }
 ],
 "metadata": {
  "interpreter": {
   "hash": "4bd624a0593993fe43ac4046b27b898fb2ef75c21c08f81e89e64ea0f51df676"
  },
  "kernelspec": {
   "display_name": "Python 3.9.7 64-bit ('tensorflow': conda)",
   "language": "python",
   "name": "python3"
  },
  "language_info": {
   "codemirror_mode": {
    "name": "ipython",
    "version": 3
   },
   "file_extension": ".py",
   "mimetype": "text/x-python",
   "name": "python",
   "nbconvert_exporter": "python",
   "pygments_lexer": "ipython3",
   "version": "3.9.7"
  },
  "orig_nbformat": 4
 },
 "nbformat": 4,
 "nbformat_minor": 2
}
