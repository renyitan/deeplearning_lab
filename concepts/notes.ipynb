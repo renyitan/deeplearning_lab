{
 "cells": [
  {
   "cell_type": "markdown",
   "metadata": {},
   "source": [
    "# Dropout Regularization"
   ]
  },
  {
   "cell_type": "markdown",
   "metadata": {},
   "source": [
    "Why will dropout help with overfitting?\n",
    "- It can't rely on one input as it might be dropped out at random\n",
    "- Neurons will not learn redundant details of inputs"
   ]
  },
  {
   "cell_type": "markdown",
   "metadata": {},
   "source": [
    "### Example (adding Dropout layer on `keras`)"
   ]
  },
  {
   "cell_type": "code",
   "execution_count": null,
   "metadata": {},
   "outputs": [],
   "source": [
    "model = keras.Sequential([\n",
    "  # input layer\n",
    "  keras.layers.Dense(60, input_dim=60, activation=\"relu\"),\n",
    "  keras.layers.Dropout(0.5),\n",
    "  # hidden layer(s)\n",
    "  keras.layers.Dense(60, activation=\"relu\"),\n",
    "  keras.layers.Dropout(0.5),\n",
    "  # output layer\n",
    "  keras.layers.Dense(1, activation=\"sigmoid)\n",
    "])"
   ]
  }
 ],
 "metadata": {
  "language_info": {
   "name": "python"
  },
  "orig_nbformat": 4
 },
 "nbformat": 4,
 "nbformat_minor": 2
}
