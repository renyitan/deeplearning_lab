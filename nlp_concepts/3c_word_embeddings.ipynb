{
 "cells": [
  {
   "cell_type": "code",
   "execution_count": 6,
   "metadata": {},
   "outputs": [],
   "source": [
    "import pandas as pd"
   ]
  },
  {
   "cell_type": "code",
   "execution_count": 3,
   "metadata": {},
   "outputs": [
    {
     "data": {
      "text/html": [
       "<div>\n",
       "<style scoped>\n",
       "    .dataframe tbody tr th:only-of-type {\n",
       "        vertical-align: middle;\n",
       "    }\n",
       "\n",
       "    .dataframe tbody tr th {\n",
       "        vertical-align: top;\n",
       "    }\n",
       "\n",
       "    .dataframe thead th {\n",
       "        text-align: right;\n",
       "    }\n",
       "</style>\n",
       "<table border=\"1\" class=\"dataframe\">\n",
       "  <thead>\n",
       "    <tr style=\"text-align: right;\">\n",
       "      <th></th>\n",
       "      <th>sentence</th>\n",
       "    </tr>\n",
       "  </thead>\n",
       "  <tbody>\n",
       "    <tr>\n",
       "      <th>0</th>\n",
       "      <td>The future king is the prince</td>\n",
       "    </tr>\n",
       "    <tr>\n",
       "      <th>1</th>\n",
       "      <td>Daughter is the princess</td>\n",
       "    </tr>\n",
       "    <tr>\n",
       "      <th>2</th>\n",
       "      <td>Son is the prince</td>\n",
       "    </tr>\n",
       "    <tr>\n",
       "      <th>3</th>\n",
       "      <td>Only a man can be a king</td>\n",
       "    </tr>\n",
       "    <tr>\n",
       "      <th>4</th>\n",
       "      <td>Only a woman can be a queen</td>\n",
       "    </tr>\n",
       "    <tr>\n",
       "      <th>5</th>\n",
       "      <td>The princess will be a queen</td>\n",
       "    </tr>\n",
       "    <tr>\n",
       "      <th>6</th>\n",
       "      <td>Queen and king rule the realm</td>\n",
       "    </tr>\n",
       "    <tr>\n",
       "      <th>7</th>\n",
       "      <td>The prince is a strong man</td>\n",
       "    </tr>\n",
       "    <tr>\n",
       "      <th>8</th>\n",
       "      <td>The princess is a beautiful woman</td>\n",
       "    </tr>\n",
       "    <tr>\n",
       "      <th>9</th>\n",
       "      <td>The royal family is the king and queen and the...</td>\n",
       "    </tr>\n",
       "    <tr>\n",
       "      <th>10</th>\n",
       "      <td>Prince is only a boy now</td>\n",
       "    </tr>\n",
       "    <tr>\n",
       "      <th>11</th>\n",
       "      <td>A boy will be a man</td>\n",
       "    </tr>\n",
       "  </tbody>\n",
       "</table>\n",
       "</div>"
      ],
      "text/plain": [
       "                                             sentence\n",
       "0                       The future king is the prince\n",
       "1                            Daughter is the princess\n",
       "2                                   Son is the prince\n",
       "3                            Only a man can be a king\n",
       "4                         Only a woman can be a queen\n",
       "5                        The princess will be a queen\n",
       "6                       Queen and king rule the realm\n",
       "7                          The prince is a strong man\n",
       "8                   The princess is a beautiful woman\n",
       "9   The royal family is the king and queen and the...\n",
       "10                           Prince is only a boy now\n",
       "11                                A boy will be a man"
      ]
     },
     "execution_count": 3,
     "metadata": {},
     "output_type": "execute_result"
    }
   ],
   "source": [
    "data = pd.read_csv('./datasets/sample.csv', names=[\"sentence\"])\n",
    "data"
   ]
  },
  {
   "cell_type": "code",
   "execution_count": 33,
   "metadata": {},
   "outputs": [
    {
     "data": {
      "text/plain": [
       "['The future king is the prince',\n",
       " 'Daughter is the princess',\n",
       " 'Son is the prince',\n",
       " 'Only a man can be a king',\n",
       " 'Only a woman can be a queen',\n",
       " 'The princess will be a queen',\n",
       " 'Queen and king rule the realm',\n",
       " 'The prince is a strong man',\n",
       " 'The princess is a beautiful woman',\n",
       " 'The royal family is the king and queen and their children',\n",
       " 'Prince is only a boy now',\n",
       " 'A boy will be a man']"
      ]
     },
     "execution_count": 33,
     "metadata": {},
     "output_type": "execute_result"
    }
   ],
   "source": [
    "texts = [x for x in data['sentence']]\n",
    "texts"
   ]
  },
  {
   "cell_type": "code",
   "execution_count": 46,
   "metadata": {},
   "outputs": [
    {
     "data": {
      "text/plain": [
       "['future king prince',\n",
       " 'daughter princess',\n",
       " 'son prince',\n",
       " 'man king',\n",
       " 'woman queen',\n",
       " 'princess queen',\n",
       " 'queen king rule realm',\n",
       " 'prince strong man',\n",
       " 'princess beautiful woman',\n",
       " 'royal family king queen children',\n",
       " 'prince boy',\n",
       " 'boy man']"
      ]
     },
     "execution_count": 46,
     "metadata": {},
     "output_type": "execute_result"
    }
   ],
   "source": [
    "import re\n",
    "from nltk.corpus import stopwords\n",
    "# clean the data\n",
    "\n",
    "\n",
    "for i in range(len(texts)):\n",
    "    \"\"\"clean/pre-process texts\"\"\"\n",
    "    text = texts[i]\n",
    "    # # remove punctuations\n",
    "    text = re.sub(r'[^\\w\\s]', '', text)\n",
    "    # # convert to lower case\n",
    "    text = text.lower()\n",
    "    # # remove stopwords\n",
    "    text = text.split()\n",
    "    text = [t for t in text if t not in set(stopwords.words('english'))]\n",
    "    text = ' '.join(text)\n",
    "    texts[i] = text\n",
    "\n",
    "texts"
   ]
  },
  {
   "cell_type": "code",
   "execution_count": 56,
   "metadata": {},
   "outputs": [
    {
     "name": "stdout",
     "output_type": "stream",
     "text": [
      "[['future', 'king'], ['future', 'prince'], ['king', 'prince'], ['king', 'future'], ['prince', 'king']]\n",
      "['future', 'king', 'prince', 'daughter', 'princess']\n"
     ]
    }
   ],
   "source": [
    "# create the window for focus and context\n",
    "window=2 \n",
    "\n",
    "word_list = [] # to store focus and context\n",
    "all_text = []\n",
    "\n",
    "for text in texts:\n",
    "    split_text = text.split()\n",
    "    for i, word in enumerate(split_text):\n",
    "        all_text.append(word)\n",
    "        for w in range(window):\n",
    "            if i + w < len(split_text) -1:\n",
    "                word_list.append([word] + [split_text[i+w+1]])\n",
    "            if i - w - 1 >= 0:\n",
    "                word_list.append([word] + [split_text[i-w-1]])\n",
    "\n",
    "print(word_list[:5])\n",
    "print(all_text[:5])\n"
   ]
  },
  {
   "cell_type": "code",
   "execution_count": 62,
   "metadata": {},
   "outputs": [
    {
     "data": {
      "text/plain": [
       "{'beautiful': 0,\n",
       " 'boy': 1,\n",
       " 'children': 2,\n",
       " 'daughter': 3,\n",
       " 'family': 4,\n",
       " 'future': 5,\n",
       " 'king': 6,\n",
       " 'man': 7,\n",
       " 'prince': 8,\n",
       " 'princess': 9,\n",
       " 'queen': 10,\n",
       " 'realm': 11,\n",
       " 'royal': 12,\n",
       " 'rule': 13,\n",
       " 'son': 14,\n",
       " 'strong': 15,\n",
       " 'woman': 16}"
      ]
     },
     "execution_count": 62,
     "metadata": {},
     "output_type": "execute_result"
    }
   ],
   "source": [
    "\"\"\"\n",
    "After the initial creation of the data points, \n",
    "we need to assign a unique integer (often called index) to each unique word \n",
    "of our vocabulary. This will be used further on when creating one-hot encoded \n",
    "vectors.\n",
    "\"\"\"\n",
    "unique_words_dict = {}\n",
    "unique_words = list(set(all_text))\n",
    "unique_words.sort()\n",
    "\n",
    "for i, word in enumerate(unique_words):\n",
    "    unique_words_dict[word] = i\n",
    "\n",
    "unique_words_dict"
   ]
  },
  {
   "cell_type": "code",
   "execution_count": 73,
   "metadata": {},
   "outputs": [
    {
     "data": {
      "text/plain": [
       "array([[0., 0., 0., 0., 0., 1., 0., 0., 0., 0., 0., 0., 0., 0., 0., 0.,\n",
       "        0.],\n",
       "       [0., 0., 0., 0., 0., 1., 0., 0., 0., 0., 0., 0., 0., 0., 0., 0.,\n",
       "        0.],\n",
       "       [0., 0., 0., 0., 0., 0., 1., 0., 0., 0., 0., 0., 0., 0., 0., 0.,\n",
       "        0.],\n",
       "       [0., 0., 0., 0., 0., 0., 1., 0., 0., 0., 0., 0., 0., 0., 0., 0.,\n",
       "        0.]])"
      ]
     },
     "execution_count": 73,
     "metadata": {},
     "output_type": "execute_result"
    }
   ],
   "source": [
    "import numpy as np\n",
    "\"\"\"One Hot Encoding\"\"\"\n",
    "# defining number of features (unique words)\n",
    "n_words = len(unique_words_dict)\n",
    "\n",
    "# getting all unique words\n",
    "words = list(unique_words_dict)\n",
    "\n",
    "# creating X and Y matricies\n",
    "X, y = [], []\n",
    "\n",
    "for i, wl in enumerate(word_list):\n",
    "    # get indicies\n",
    "    focus_index = unique_words_dict[wl[0]]\n",
    "    context_index = unique_words_dict[wl[1]]\n",
    "\n",
    "    # creating placeholders\n",
    "    X_row = np.zeros(n_words)\n",
    "    y_row = np.zeros(n_words)\n",
    "\n",
    "    # One hot encode\n",
    "    X_row[focus_index] = 1\n",
    "    y_row[context_index] = 1\n",
    "\n",
    "    # append to main matrices\n",
    "    X.append(X_row)\n",
    "    y.append(y_row)\n",
    "\n",
    "X = np.array(X)\n",
    "y = np.array(y)\n",
    "\n",
    "X[:4]\n"
   ]
  },
  {
   "cell_type": "code",
   "execution_count": 72,
   "metadata": {},
   "outputs": [
    {
     "data": {
      "text/plain": [
       "array([[0., 0., 0., 0., 0., 0., 1., 0., 0., 0., 0., 0., 0., 0., 0., 0.,\n",
       "        0.],\n",
       "       [0., 0., 0., 0., 0., 0., 0., 0., 1., 0., 0., 0., 0., 0., 0., 0.,\n",
       "        0.],\n",
       "       [0., 0., 0., 0., 0., 0., 0., 0., 1., 0., 0., 0., 0., 0., 0., 0.,\n",
       "        0.],\n",
       "       [0., 0., 0., 0., 0., 1., 0., 0., 0., 0., 0., 0., 0., 0., 0., 0.,\n",
       "        0.]])"
      ]
     },
     "execution_count": 72,
     "metadata": {},
     "output_type": "execute_result"
    }
   ],
   "source": [
    "y[:4]"
   ]
  },
  {
   "cell_type": "code",
   "execution_count": 78,
   "metadata": {},
   "outputs": [],
   "source": [
    "\"\"\"Convert one-hot encoded to featurised vector for NN training\"\"\"\n",
    "\n",
    "from keras.models import Sequential\n",
    "from keras.layers import Dense\n",
    "\n",
    "# define size of embeddings\n",
    "embedded_size = 2\n",
    "\n",
    "# setup neural network\n",
    "model = Sequential()\n",
    "model.add(Dense(units=embedded_size, activation=\"linear\"))\n",
    "model.add(Dense(units=y.shape[1], activation=\"softmax\"))\n",
    "\n",
    "model.compile(optimizer=\"adam\", loss=\"categorical_crossentropy\", metrics=[\"accuracy\"])"
   ]
  },
  {
   "cell_type": "code",
   "execution_count": null,
   "metadata": {},
   "outputs": [],
   "source": [
    "model.fit(x=X, y=y, batch_size=256, epochs=100)"
   ]
  },
  {
   "cell_type": "code",
   "execution_count": 82,
   "metadata": {},
   "outputs": [
    {
     "data": {
      "text/plain": [
       "array([[ 0.3867862 ,  0.13325857],\n",
       "       [ 0.31450433, -0.06316046],\n",
       "       [ 0.5102083 , -0.36884046],\n",
       "       [ 0.15072194,  0.18422046],\n",
       "       [ 0.30279258,  0.03165843],\n",
       "       [ 0.58097774, -0.01106695],\n",
       "       [ 0.54702294,  0.41340837],\n",
       "       [ 0.32688454,  0.3145537 ],\n",
       "       [ 0.37253207, -0.44919333],\n",
       "       [ 0.41919175, -0.12614997],\n",
       "       [-0.03410402,  0.25853628],\n",
       "       [ 0.3531556 , -0.5699238 ],\n",
       "       [ 0.17911632,  0.29212967],\n",
       "       [-0.0651465 , -0.47774622],\n",
       "       [ 0.49483198, -0.36526406],\n",
       "       [-0.3676314 , -0.03043018],\n",
       "       [ 0.08777016,  0.00390148]], dtype=float32)"
      ]
     },
     "execution_count": 82,
     "metadata": {},
     "output_type": "execute_result"
    }
   ],
   "source": [
    "# obtain weights from neural networks\n",
    "weights = model.get_weights()[0]\n",
    "weights"
   ]
  },
  {
   "cell_type": "code",
   "execution_count": 84,
   "metadata": {},
   "outputs": [
    {
     "data": {
      "text/plain": [
       "{'beautiful': array([0.3867862 , 0.13325857], dtype=float32),\n",
       " 'boy': array([ 0.31450433, -0.06316046], dtype=float32),\n",
       " 'children': array([ 0.5102083 , -0.36884046], dtype=float32),\n",
       " 'daughter': array([0.15072194, 0.18422046], dtype=float32),\n",
       " 'family': array([0.30279258, 0.03165843], dtype=float32),\n",
       " 'future': array([ 0.58097774, -0.01106695], dtype=float32),\n",
       " 'king': array([0.54702294, 0.41340837], dtype=float32),\n",
       " 'man': array([0.32688454, 0.3145537 ], dtype=float32),\n",
       " 'prince': array([ 0.37253207, -0.44919333], dtype=float32),\n",
       " 'princess': array([ 0.41919175, -0.12614997], dtype=float32),\n",
       " 'queen': array([-0.03410402,  0.25853628], dtype=float32),\n",
       " 'realm': array([ 0.3531556, -0.5699238], dtype=float32),\n",
       " 'royal': array([0.17911632, 0.29212967], dtype=float32),\n",
       " 'rule': array([-0.0651465 , -0.47774622], dtype=float32),\n",
       " 'son': array([ 0.49483198, -0.36526406], dtype=float32),\n",
       " 'strong': array([-0.3676314 , -0.03043018], dtype=float32),\n",
       " 'woman': array([0.08777016, 0.00390148], dtype=float32)}"
      ]
     },
     "execution_count": 84,
     "metadata": {},
     "output_type": "execute_result"
    }
   ],
   "source": [
    "embedding_dict = {}\n",
    "for word in words:\n",
    "    embedding_dict.update({word: weights[unique_words_dict.get(word)]})\n",
    "\n",
    "embedding_dict"
   ]
  },
  {
   "cell_type": "code",
   "execution_count": 85,
   "metadata": {},
   "outputs": [
    {
     "data": {
      "image/png": "[encoded data removed]",
      "text/plain": [
       "<Figure size 720x720 with 1 Axes>"
      ]
     },
     "metadata": {
      "needs_background": "light"
     },
     "output_type": "display_data"
    }
   ],
   "source": [
    "# after getting weights we can plot it to see feature results\n",
    "import matplotlib.pyplot as plt\n",
    "\n",
    "plt.figure(figsize=(10,10))\n",
    "for word in list(unique_words_dict):\n",
    "    coord = embedding_dict.get(word)\n",
    "    plt.scatter(coord[0], coord[1])\n",
    "    plt.annotate(word, [coord[0], coord[1]])"
   ]
  },
  {
   "cell_type": "code",
   "execution_count": null,
   "metadata": {},
   "outputs": [],
   "source": []
  }
 ],
 "metadata": {
  "interpreter": {
   "hash": "4bd624a0593993fe43ac4046b27b898fb2ef75c21c08f81e89e64ea0f51df676"
  },
  "kernelspec": {
   "display_name": "Python 3.9.7 64-bit ('tensorflow': conda)",
   "language": "python",
   "name": "python3"
  },
  "language_info": {
   "codemirror_mode": {
    "name": "ipython",
    "version": 3
   },
   "file_extension": ".py",
   "mimetype": "text/x-python",
   "name": "python",
   "nbconvert_exporter": "python",
   "pygments_lexer": "ipython3",
   "version": "3.9.7"
  },
  "orig_nbformat": 4
 },
 "nbformat": 4,
 "nbformat_minor": 2
}
