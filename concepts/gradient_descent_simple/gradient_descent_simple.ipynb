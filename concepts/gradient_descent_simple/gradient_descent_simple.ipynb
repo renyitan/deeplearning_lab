{
 "cells": [
  {
   "cell_type": "code",
   "execution_count": null,
   "id": "814af27b",
   "metadata": {},
   "outputs": [],
   "source": [
    "import numpy as np\n",
    "import tensorflow as tf\n",
    "from tensorflow import keras\n",
    "import pandas as pd\n",
    "import matplotlib.pyplot as plt\n",
    "from sklearn.model_selection import train_test_split\n",
    "%matplotlib inline"
   ]
  },
  {
   "cell_type": "code",
   "execution_count": null,
   "id": "12419390",
   "metadata": {},
   "outputs": [],
   "source": [
    "df = pd.read_csv('insurance_data.csv')\n",
    "df.head()"
   ]
  },
  {
   "cell_type": "code",
   "execution_count": null,
   "id": "d458d6f5",
   "metadata": {},
   "outputs": [],
   "source": [
    "X_train, X_test, y_train, y_test = train_test_split(df[['age', 'affordibility']], df[\"bought_insurance\"], test_size=0.2, random_state=25)"
   ]
  },
  {
   "cell_type": "code",
   "execution_count": null,
   "id": "a62fa77b",
   "metadata": {},
   "outputs": [],
   "source": [
    "# scaling\n",
    "X_train_scaled = X_train.copy()\n",
    "X_train_scaled['age'] = X_train_scaled['age'] / 100\n",
    "\n",
    "X_test_scaled = X_test.copy()\n",
    "X_test_scaled['age'] = X_test_scaled['age'] / 100\n"
   ]
  },
  {
   "cell_type": "markdown",
   "id": "890e3b61",
   "metadata": {},
   "source": [
    "## Simple Model (with Tensorflow)"
   ]
  },
  {
   "cell_type": "code",
   "execution_count": null,
   "id": "b924ea17",
   "metadata": {},
   "outputs": [],
   "source": [
    "model = keras.Sequential([\n",
    "    keras.layers.Dense(1, activation=\"sigmoid\", input_shape=(2,), \n",
    "                      bias_initializer='zero', # bias = 0\n",
    "                       kernel_initializer='one' # weights = 1\n",
    "                      )\n",
    "])\n",
    "\n",
    "model.compile(\n",
    "    optimizer=\"adam\",\n",
    "    loss=\"binary_crossentropy\",\n",
    "    metrics=['accuracy']\n",
    ")\n",
    "\n",
    "model.fit(X_train_scaled, y_train, epochs=5000)\n",
    "\n"
   ]
  },
  {
   "cell_type": "code",
   "execution_count": null,
   "id": "3085f7ef",
   "metadata": {
    "scrolled": true
   },
   "outputs": [],
   "source": [
    "model.evaluate(X_test_scaled, y_test)\n"
   ]
  },
  {
   "cell_type": "code",
   "execution_count": null,
   "id": "a2984eca",
   "metadata": {},
   "outputs": [],
   "source": [
    "model.predict(X_test_scaled)"
   ]
  },
  {
   "cell_type": "code",
   "execution_count": null,
   "id": "19075dff",
   "metadata": {},
   "outputs": [],
   "source": [
    "# get weights\n",
    "\n",
    "coef, intercept = model.get_weights()\n",
    "coef, intercept"
   ]
  },
  {
   "cell_type": "markdown",
   "id": "fa863a91",
   "metadata": {},
   "source": [
    "## Simple Predictor (from scratch)"
   ]
  },
  {
   "cell_type": "code",
   "execution_count": null,
   "id": "230db020",
   "metadata": {},
   "outputs": [],
   "source": [
    "import math\n",
    "def sigmoid(x):\n",
    "    return 1 / (1+math.exp(-x))"
   ]
  },
  {
   "cell_type": "code",
   "execution_count": null,
   "id": "89320051",
   "metadata": {},
   "outputs": [],
   "source": [
    "def prediction_function(age, affordability):\n",
    "    weighted_sum = coef[0]*age + coef[1]*affordability + intercept\n",
    "    return sigmoid(weighted_sum)"
   ]
  },
  {
   "cell_type": "markdown",
   "id": "9bdb6a5d",
   "metadata": {},
   "source": [
    "prediction_function(0.47, 1)"
   ]
  },
  {
   "cell_type": "markdown",
   "id": "be52463b",
   "metadata": {},
   "source": [
    "## Simple Gradient Descent (from scratch)"
   ]
  },
  {
   "cell_type": "code",
   "execution_count": null,
   "id": "09306aa4",
   "metadata": {},
   "outputs": [],
   "source": [
    "# binary_crossentropy\n",
    "def log_loss(y_true, y_predicted):\n",
    "    epsilon=1e-15\n",
    "    y_predicted_new = [max(i, epsilon) for i in y_predicted]\n",
    "    y_predicted_new = [min(i, 1-epsilon) for i in y_predicted]\n",
    "    y_predicted_new = np.array(y_predicted_new)\n",
    "    return -np.mean(y_true*np.log(y_predicted_new) + (1-y_true)*np.log(1-y_predicted_new))"
   ]
  },
  {
   "cell_type": "code",
   "execution_count": null,
   "id": "97723aba",
   "metadata": {},
   "outputs": [],
   "source": [
    "def sigmoid_np(x):\n",
    "    return 1/(1+np.exp(-x))\n",
    "\n",
    "sigmoid_np(np.array([12,0,1]))"
   ]
  },
  {
   "cell_type": "code",
   "execution_count": null,
   "id": "f1405ea3",
   "metadata": {},
   "outputs": [],
   "source": [
    "def gradient_descent(age, affordibility, y_true, epochs, loss_treshold):\n",
    "    w1 = w2 = 1\n",
    "    bias = 0\n",
    "    rate = 0.5\n",
    "    n = len(age)\n",
    "    \n",
    "    for i in range(epochs):\n",
    "        weighted_sum = w1*age + w2*affordibility + bias\n",
    "        y_predicted = sigmoid_np(weighted_sum)\n",
    "        loss = log_loss(y_true, y_predicted)\n",
    "        \n",
    "        w1d = (1/n)*np.dot(np.transpose(age), (y_predicted - y_true))\n",
    "        w2d = (1/n)*np.dot(np.transpose(affordibility), (y_predicted - y_true))\n",
    "        \n",
    "        bias_d = np.mean(y_predicted-y_true)\n",
    "        \n",
    "        w1 = w1 - rate * w1d\n",
    "        w2 = w2 - rate * w2d\n",
    "        bias = bias - rate * bias_d\n",
    "        \n",
    "        print(f'Epoch: {i}, w1:{w1}, w2:{w2}, bias:{bias}, loss:{loss}')\n",
    "        \n",
    "        if loss<=loss_treshold:\n",
    "            break\n",
    "    \n",
    "    return w1, w2, bias"
   ]
  },
  {
   "cell_type": "code",
   "execution_count": null,
   "id": "26b7e98d",
   "metadata": {},
   "outputs": [],
   "source": [
    "gradient_descent(X_train_scaled['age'], X_train_scaled['affordibility'], y_train, epochs=2000, loss_treshold=0.4631)"
   ]
  },
  {
   "cell_type": "markdown",
   "id": "cd28128a",
   "metadata": {},
   "source": [
    "## Simple Neural Network (from scratch)"
   ]
  },
  {
   "cell_type": "code",
   "execution_count": null,
   "id": "e14fce51",
   "metadata": {},
   "outputs": [],
   "source": [
    "class MyNN:\n",
    "    def __init__(self):\n",
    "        self.w1 = 1\n",
    "        self.w2 = 1\n",
    "        self.bias = 0\n",
    "        \n",
    "    def fit(self, X, y, epochs, loss_treshold):\n",
    "        self.w1, self.w2, self.bias = self.gradient_descent(X['age'], X['affordibility'], y, epochs, loss_treshold)\n",
    "        \n",
    "    def predict(self, X_test):\n",
    "        weighted_sum = self.w1*X_test['age'] + self.w2*X_test['affordibility'] + self.bias\n",
    "        return sigmoid_np(weighted_sum)\n",
    "    \n",
    "    def gradient_descent(self, age, affordibility, y_true, epochs, loss_treshold):\n",
    "        w1 = self.w1\n",
    "        w2 = self.w2\n",
    "        bias = self.bias\n",
    "        rate = 0.5\n",
    "        n = len(age)\n",
    "\n",
    "        for i in range(epochs):\n",
    "            weighted_sum = w1*age + w2*affordibility + bias\n",
    "            y_predicted = sigmoid_np(weighted_sum)\n",
    "            loss = log_loss(y_true, y_predicted)\n",
    "\n",
    "            w1d = (1/n)*np.dot(np.transpose(age), (y_predicted - y_true))\n",
    "            w2d = (1/n)*np.dot(np.transpose(affordibility), (y_predicted - y_true))\n",
    "\n",
    "            bias_d = np.mean(y_predicted-y_true)\n",
    "\n",
    "            w1 = w1 - rate * w1d\n",
    "            w2 = w2 - rate * w2d\n",
    "            bias = bias - rate * bias_d\n",
    "            \n",
    "            if i%50==0:\n",
    "                print(f'Epoch: {i}, w1:{w1}, w2:{w2}, bias:{bias}, loss:{loss}')\n",
    "\n",
    "            if loss<=loss_treshold:\n",
    "                print(f'Break! Final -- Epoch: {i}, w1:{w1}, w2:{w2}, bias:{bias}, loss:{loss}')\n",
    "                break\n",
    "\n",
    "        return w1, w2, bias\n",
    "\n",
    "  "
   ]
  },
  {
   "cell_type": "code",
   "execution_count": null,
   "id": "df0c203f",
   "metadata": {},
   "outputs": [],
   "source": [
    "custom_model = MyNN()\n",
    "custom_model.fit(X_train_scaled, y_train, epochs=500, loss_treshold=0.4631)"
   ]
  },
  {
   "cell_type": "code",
   "execution_count": null,
   "id": "8db2c144",
   "metadata": {},
   "outputs": [],
   "source": [
    "custom_model.predict(X_test_scaled)"
   ]
  },
  {
   "cell_type": "code",
   "execution_count": null,
   "id": "674c260c",
   "metadata": {},
   "outputs": [],
   "source": [
    "model.predict(X_test_scaled)"
   ]
  },
  {
   "cell_type": "code",
   "execution_count": null,
   "id": "73451bcc",
   "metadata": {},
   "outputs": [],
   "source": []
  }
 ],
 "metadata": {
  "kernelspec": {
   "display_name": "Python [conda env:tensorflow] *",
   "language": "python",
   "name": "conda-env-tensorflow-py"
  },
  "language_info": {
   "codemirror_mode": {
    "name": "ipython",
    "version": 3
   },
   "file_extension": ".py",
   "mimetype": "text/x-python",
   "name": "python",
   "nbconvert_exporter": "python",
   "pygments_lexer": "ipython3",
   "version": "3.9.7"
  }
 },
 "nbformat": 4,
 "nbformat_minor": 5
}
