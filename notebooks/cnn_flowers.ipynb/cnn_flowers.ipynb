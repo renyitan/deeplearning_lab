{
  "nbformat": 4,
  "nbformat_minor": 0,
  "metadata": {
    "colab": {
      "name": "cnn_flowers.ipynb",
      "provenance": []
    },
    "kernelspec": {
      "name": "python3",
      "display_name": "Python 3"
    },
    "language_info": {
      "name": "python"
    }
  },
  "cells": [
    {
      "cell_type": "code",
      "execution_count": 1,
      "metadata": {
        "id": "FAsfljRkcSI1"
      },
      "outputs": [],
      "source": [
        "import matplotlib.pyplot as plt\n",
        "import numpy as np\n",
        "import cv2\n",
        "import os\n",
        "import tensorflow as tf\n",
        "from tensorflow import keras"
      ]
    },
    {
      "cell_type": "code",
      "source": [
        "# Download dataset\n",
        "dataset_url = \"https://storage.googleapis.com/download.tensorflow.org/example_images/flower_photos.tgz\"\n",
        "data_dir = tf.keras.utils.get_file(\n",
        "    'flower_photos', origin=dataset_url, cache_dir=\".\", untar=True)\n"
      ],
      "metadata": {
        "id": "nXuoivNpckW1"
      },
      "execution_count": 2,
      "outputs": []
    },
    {
      "cell_type": "code",
      "source": [
        "data_dir"
      ],
      "metadata": {
        "colab": {
          "base_uri": "https://localhost:8080/",
          "height": 35
        },
        "id": "7wG54D7Tcswq",
        "outputId": "2694063f-02aa-4eb1-8bbd-3a0f08a27f74"
      },
      "execution_count": 3,
      "outputs": [
        {
          "output_type": "execute_result",
          "data": {
            "application/vnd.google.colaboratory.intrinsic+json": {
              "type": "string"
            },
            "text/plain": [
              "'./datasets/flower_photos'"
            ]
          },
          "metadata": {},
          "execution_count": 3
        }
      ]
    },
    {
      "cell_type": "code",
      "source": [
        "import pathlib\n",
        "data_dir = pathlib.Path(data_dir)\n",
        "data_dir"
      ],
      "metadata": {
        "colab": {
          "base_uri": "https://localhost:8080/"
        },
        "id": "DuBqeZ33cv5Q",
        "outputId": "3598c20a-5d9e-493d-fc1b-78e68bb0909d"
      },
      "execution_count": 4,
      "outputs": [
        {
          "output_type": "execute_result",
          "data": {
            "text/plain": [
              "PosixPath('datasets/flower_photos')"
            ]
          },
          "metadata": {},
          "execution_count": 4
        }
      ]
    },
    {
      "cell_type": "code",
      "source": [
        "roses_list = list(data_dir.glob('roses/*'))\n",
        "roses_list[:5]"
      ],
      "metadata": {
        "colab": {
          "base_uri": "https://localhost:8080/"
        },
        "id": "xDT0t8aEcyVs",
        "outputId": "6178dc22-4914-450f-84ad-746be3606139"
      },
      "execution_count": 5,
      "outputs": [
        {
          "output_type": "execute_result",
          "data": {
            "text/plain": [
              "[PosixPath('datasets/flower_photos/roses/5360769702_ec28c53b9e_n.jpg'),\n",
              " PosixPath('datasets/flower_photos/roses/12238827553_cf427bfd51_n.jpg'),\n",
              " PosixPath('datasets/flower_photos/roses/7502389724_85b4a6c855_n.jpg'),\n",
              " PosixPath('datasets/flower_photos/roses/12395698413_c0388278f7.jpg'),\n",
              " PosixPath('datasets/flower_photos/roses/15699509054_d3e125286f_n.jpg')]"
            ]
          },
          "metadata": {},
          "execution_count": 5
        }
      ]
    },
    {
      "cell_type": "code",
      "source": [
        "#  read flowers from disk into numpy array using openCV\n",
        "\n",
        "flowers_image_dict = {\n",
        "    'roses': list(data_dir.glob(\"roses/*\")),\n",
        "    'daisy': list(data_dir.glob('daisy/*')),\n",
        "    'dandelion': list(data_dir.glob('dandelion/*')),\n",
        "    'sunflowers': list(data_dir.glob('sunflowers/*')),\n",
        "    'tulips': list(data_dir.glob('tulips/*')),\n",
        "}\n",
        "\n",
        "flowers_label_dict = {\n",
        "    'roses': 0,\n",
        "    'daisy': 1,\n",
        "    'dandelion': 2,\n",
        "    'sunflowers': 3,\n",
        "    'tulips': 4,\n",
        "}\n"
      ],
      "metadata": {
        "id": "5qhsveL7c4OT"
      },
      "execution_count": 6,
      "outputs": []
    },
    {
      "cell_type": "code",
      "source": [
        "# create your X and y\n",
        "X,y = [],[]\n",
        "\n",
        "for flower_name, images in flowers_image_dict.items():\n",
        "    for image in images:\n",
        "        img = cv2.imread(str(image))\n",
        "        resized = cv2.resize(img, (180,180))\n",
        "        X.append(resized)\n",
        "        y.append(flowers_label_dict[flower_name])\n",
        "\n",
        "X = np.array(X)\n",
        "y = np.array(y)\n",
        "\n",
        "\n"
      ],
      "metadata": {
        "id": "R0HH3EjGc763"
      },
      "execution_count": 7,
      "outputs": []
    },
    {
      "cell_type": "code",
      "source": [
        "# train, test, split\n",
        "from sklearn.model_selection import train_test_split\n",
        "\n",
        "X_train, x_test, y_train, y_test = train_test_split(X, y, test_size=0.2, random_state=0)\n"
      ],
      "metadata": {
        "id": "y8SwMmw3c87V"
      },
      "execution_count": 8,
      "outputs": []
    },
    {
      "cell_type": "code",
      "source": [
        "# scaling\n",
        "\n",
        "X_train = X_train / 255\n",
        "x_test = x_test / 255"
      ],
      "metadata": {
        "id": "cw-VOngzc_9Q"
      },
      "execution_count": 9,
      "outputs": []
    },
    {
      "cell_type": "code",
      "source": [
        "num_classes = 5\n",
        "\n",
        "data_augmentation = keras.Sequential(\n",
        "  [\n",
        "    keras.layers.experimental.preprocessing.RandomFlip(\"horizontal\", \n",
        "                                                 input_shape=(180, \n",
        "                                                              180,\n",
        "                                                              3)),\n",
        "    keras.layers.experimental.preprocessing.RandomRotation(0.1),\n",
        "    keras.layers.experimental.preprocessing.RandomZoom(0.1),\n",
        "  ]\n",
        ")\n",
        "\n",
        "cnn = keras.models.Sequential([\n",
        "data_augmentation,\n",
        "  keras.layers.Conv2D(16, 3, padding='same', activation='relu'),\n",
        "  keras.layers.MaxPooling2D(),\n",
        "  keras.layers.Conv2D(32, 3, padding='same', activation='relu'),\n",
        "  keras.layers.MaxPooling2D(),\n",
        "  keras.layers.Conv2D(64, 3, padding='same', activation='relu'),\n",
        "  keras.layers.MaxPooling2D(),\n",
        "  keras.layers.Dropout(0.2),\n",
        "  keras.layers.Flatten(),\n",
        "  keras.layers.Dense(128, activation='relu'),\n",
        "  keras.layers.Dense(num_classes)\n",
        "])\n",
        "\n",
        "cnn.compile(optimizer='adam',\n",
        "              loss=tf.keras.losses.SparseCategoricalCrossentropy(from_logits=True),\n",
        "              metrics=['accuracy'])\n"
      ],
      "metadata": {
        "id": "5fpvV0G6dBE4"
      },
      "execution_count": 10,
      "outputs": []
    },
    {
      "cell_type": "code",
      "source": [
        "cnn.fit(X_train, y_train, epochs=10)"
      ],
      "metadata": {
        "colab": {
          "base_uri": "https://localhost:8080/"
        },
        "id": "M2EEFqu5dCHK",
        "outputId": "f8177f1a-6c59-433f-8bf6-17a66346450e"
      },
      "execution_count": 11,
      "outputs": [
        {
          "output_type": "stream",
          "name": "stdout",
          "text": [
            "Epoch 1/10\n",
            "92/92 [==============================] - 88s 950ms/step - loss: 1.4005 - accuracy: 0.3767\n",
            "Epoch 2/10\n",
            "92/92 [==============================] - 88s 954ms/step - loss: 1.1061 - accuracy: 0.5480\n",
            "Epoch 3/10\n",
            "92/92 [==============================] - 87s 944ms/step - loss: 1.0158 - accuracy: 0.6015\n",
            "Epoch 4/10\n",
            "92/92 [==============================] - 87s 942ms/step - loss: 0.9340 - accuracy: 0.6434\n",
            "Epoch 5/10\n",
            "92/92 [==============================] - 85s 928ms/step - loss: 0.8623 - accuracy: 0.6652\n",
            "Epoch 6/10\n",
            "92/92 [==============================] - 85s 922ms/step - loss: 0.8086 - accuracy: 0.6914\n",
            "Epoch 7/10\n",
            "92/92 [==============================] - 85s 922ms/step - loss: 0.7813 - accuracy: 0.7030\n",
            "Epoch 8/10\n",
            "92/92 [==============================] - 86s 940ms/step - loss: 0.7421 - accuracy: 0.7132\n",
            "Epoch 9/10\n",
            "92/92 [==============================] - 86s 932ms/step - loss: 0.6968 - accuracy: 0.7282\n",
            "Epoch 10/10\n",
            "92/92 [==============================] - 85s 926ms/step - loss: 0.6762 - accuracy: 0.7422\n"
          ]
        },
        {
          "output_type": "execute_result",
          "data": {
            "text/plain": [
              "<keras.callbacks.History at 0x7f6eac011c10>"
            ]
          },
          "metadata": {},
          "execution_count": 11
        }
      ]
    },
    {
      "cell_type": "code",
      "source": [
        "cnn.evaluate(x_test, y_test)"
      ],
      "metadata": {
        "colab": {
          "base_uri": "https://localhost:8080/"
        },
        "id": "xMtIRFI0dDLq",
        "outputId": "1f2a4839-53f9-4712-fcb4-e21f5a77764c"
      },
      "execution_count": 13,
      "outputs": [
        {
          "output_type": "stream",
          "name": "stdout",
          "text": [
            "23/23 [==============================] - 6s 237ms/step - loss: 0.7708 - accuracy: 0.7125\n"
          ]
        },
        {
          "output_type": "execute_result",
          "data": {
            "text/plain": [
              "[0.7708163261413574, 0.7125340700149536]"
            ]
          },
          "metadata": {},
          "execution_count": 13
        }
      ]
    },
    {
      "cell_type": "code",
      "source": [
        "y_predict = cnn.predict(x_test)\n"
      ],
      "metadata": {
        "id": "C1iO7JXwiCcs"
      },
      "execution_count": 17,
      "outputs": []
    },
    {
      "cell_type": "code",
      "source": [
        "y_answer = [np.argmax(elements) for elements in y_predict]\n",
        "y_answer[:10]"
      ],
      "metadata": {
        "colab": {
          "base_uri": "https://localhost:8080/"
        },
        "id": "5jBB0BEHiHYp",
        "outputId": "cd9495bf-9b3b-4f45-b0fc-14654ff3f11c"
      },
      "execution_count": 24,
      "outputs": [
        {
          "output_type": "execute_result",
          "data": {
            "text/plain": [
              "[4, 0, 4, 4, 4, 3, 0, 4, 3, 4]"
            ]
          },
          "metadata": {},
          "execution_count": 24
        }
      ]
    },
    {
      "cell_type": "code",
      "source": [
        "y_test[:10]"
      ],
      "metadata": {
        "colab": {
          "base_uri": "https://localhost:8080/"
        },
        "id": "dpErSegzibPp",
        "outputId": "f17d5f9e-1b82-4dba-c0ce-2325507a42b0"
      },
      "execution_count": 23,
      "outputs": [
        {
          "output_type": "execute_result",
          "data": {
            "text/plain": [
              "array([1, 0, 2, 4, 2, 3, 0, 4, 3, 4])"
            ]
          },
          "metadata": {},
          "execution_count": 23
        }
      ]
    },
    {
      "cell_type": "code",
      "source": [
        ""
      ],
      "metadata": {
        "id": "WcKKNzDHifGI"
      },
      "execution_count": null,
      "outputs": []
    }
  ]
}