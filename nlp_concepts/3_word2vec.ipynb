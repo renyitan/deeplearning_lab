{
 "cells": [
  {
   "cell_type": "code",
   "execution_count": 65,
   "metadata": {},
   "outputs": [],
   "source": [
    "import nltk\n",
    "from gensim.models import Word2Vec\n",
    "from nltk.corpus import stopwords\n",
    "import re\n",
    "import string\n"
   ]
  },
  {
   "cell_type": "code",
   "execution_count": 66,
   "metadata": {},
   "outputs": [],
   "source": [
    "paragraph = \"\"\"…Duty, Honor, Country: Those three hallowed words reverently dictate what you ought to be, what\n",
    "you can be, what you will be. They are your rallying points: to build courage when courage seems to\n",
    "fail; to regain faith when there seems to be little cause for faith; to create hope when hope becomes\n",
    "forlorn.\n",
    "They give you a temperate will, a quality of imagination, a vigor of the emotions, a temperament of\n",
    "courage over timidity, an appetite for adventure over love of ease. They create in your heart the\n",
    "sense of wonder, the unfailing hope of what next, and the joy and inspiration of life. They teach you in\n",
    "this way to be an officer and a gentleman.\n",
    "…Your mission remains fixed, determined, unchanging. It is to win our wars. Everything else in your\n",
    "professional career is but a corollary to this vital dedication. All other public purpose, all other public\n",
    "projects, all other public needs, great or small, will find others for their accomplishments; but you are\n",
    "the ones who are trained to fight.\n",
    "Yours is the profession of arms, the will to win, the sure knowledge that in war there is no substitute\n",
    "for victory, that if you lose, the Nation will be destroyed, that the very obsession of your public service\n",
    "must be Duty, Honor, Country.\n",
    "…You are the leaven which binds together the entire fabric of our national system of defense. From\n",
    "your ranks come the great captains who hold the Nation's destiny in their hands the moment the call\n",
    "to war sounds.\n",
    "The long gray line has never failed us. Were you to do so, a million ghosts in olive drab, in brown\n",
    "khaki, in blue and gray, would rise from their white crosses, thundering those magic words: Duty,\n",
    "Honor, Country.\n",
    "This does not mean that you are warmongers. On the contrary, the soldier above all other people\n",
    "prays for peace, for he must suffer and bear the deepest wounds and scars of war. But always in our\n",
    "ears ring the ominous words of Plato, that wisest of all philosophers: \"Only the dead have seen the\n",
    "end of war.\"\n",
    "The shadows are lengthening for me. The twilight is here. My days of old have vanished - tone and\n",
    "tints. They have gone glimmering through the dreams of things that were. Their memory is one of\n",
    "wondrous beauty, watered by tears and coaxed and caressed by the smiles of yesterday. I listen\n",
    "then, but with thirsty ear, for the witching melody of faint bugles blowing reveille, of far drums beating\n",
    "the long roll.\n",
    "In my dreams I hear again the crash of guns, the rattle of musketry, the strange, mournful mutter of\n",
    "the battlefield. But in the evening of my memory I come back to West Point. Always there echoes and\n",
    "re-echoes: Duty, Honor, Country.\n",
    "Today marks my final roll call with you. But I want you to know that when I cross the river, my last\n",
    "conscious thoughts will be of the Corps, and the Corps, and the Corps.\n",
    "I bid you farewell\n",
    "\"\"\"\n"
   ]
  },
  {
   "cell_type": "markdown",
   "metadata": {},
   "source": [
    "### Clean Data"
   ]
  },
  {
   "cell_type": "code",
   "execution_count": null,
   "metadata": {},
   "outputs": [],
   "source": [
    "\n",
    "text = re.sub(r'\\[[0-9]*\\]', ' ', paragraph)\n",
    "text = re.sub('[^a-zA-Z]', ' ', paragraph)\n",
    "text = re.sub(r'\\s+', ' ', text)\n",
    "text = text.lower()\n",
    "text = re.sub(r'\\d', ' ', text)\n",
    "text = text.translate(str.maketrans('', '', string.punctuation))\n",
    "\n",
    "text = re.sub(r'\\s+', ' ', text)\n",
    "\n",
    "sentences = nltk.sent_tokenize(text)\n",
    "sentences = [nltk.word_tokenize(sentence) for sentence in sentences]\n",
    "\n",
    "for i in range(len(sentences)):\n",
    "    sentences[i] = [word for word in sentences[i] if word not in stopwords.words('english')]\n",
    "\n",
    "sentences[:1]\n",
    "\n"
   ]
  },
  {
   "cell_type": "markdown",
   "metadata": {},
   "source": [
    "### Create Word2Vec Model"
   ]
  },
  {
   "cell_type": "code",
   "execution_count": 69,
   "metadata": {},
   "outputs": [],
   "source": [
    "model = Word2Vec(sentences, min_count=1)"
   ]
  },
  {
   "cell_type": "code",
   "execution_count": 70,
   "metadata": {},
   "outputs": [],
   "source": [
    "words = model.wv.key_to_index\n"
   ]
  },
  {
   "cell_type": "code",
   "execution_count": null,
   "metadata": {},
   "outputs": [],
   "source": [
    "vector = model.wv.get_vector('duty')\n",
    "vector"
   ]
  },
  {
   "cell_type": "code",
   "execution_count": 75,
   "metadata": {},
   "outputs": [
    {
     "data": {
      "text/plain": [
       "[('forlorn', 0.2771909236907959),\n",
       " ('melody', 0.24761764705181122),\n",
       " ('strange', 0.24475634098052979),\n",
       " ('suffer', 0.2411346733570099),\n",
       " ('blue', 0.23766782879829407),\n",
       " ('want', 0.23522453010082245),\n",
       " ('khaki', 0.22918878495693207),\n",
       " ('deepest', 0.22848737239837646),\n",
       " ('point', 0.22597120702266693),\n",
       " ('vigor', 0.19711464643478394)]"
      ]
     },
     "execution_count": 75,
     "metadata": {},
     "output_type": "execute_result"
    }
   ],
   "source": [
    "similar = model.wv.most_similar('west')\n",
    "similar"
   ]
  },
  {
   "cell_type": "code",
   "execution_count": null,
   "metadata": {},
   "outputs": [],
   "source": []
  }
 ],
 "metadata": {
  "interpreter": {
   "hash": "4bd624a0593993fe43ac4046b27b898fb2ef75c21c08f81e89e64ea0f51df676"
  },
  "kernelspec": {
   "display_name": "Python 3.9.7 64-bit ('tensorflow': conda)",
   "language": "python",
   "name": "python3"
  },
  "language_info": {
   "codemirror_mode": {
    "name": "ipython",
    "version": 3
   },
   "file_extension": ".py",
   "mimetype": "text/x-python",
   "name": "python",
   "nbconvert_exporter": "python",
   "pygments_lexer": "ipython3",
   "version": "3.9.7"
  },
  "orig_nbformat": 4
 },
 "nbformat": 4,
 "nbformat_minor": 2
}
