{
 "cells": [
  {
   "cell_type": "markdown",
   "metadata": {},
   "source": [
    "# Loss Functions\n",
    "---"
   ]
  },
  {
   "cell_type": "markdown",
   "metadata": {},
   "source": [
    "**Mean Absolute Error**\n",
    "\n",
    "$Mean Absolute Error (MAE) = {\\frac{1}{n}}{\\sum_{i=1}^{n} abs(y_i - {\\hat{y}_i})}$"
   ]
  },
  {
   "cell_type": "code",
   "execution_count": null,
   "metadata": {},
   "outputs": [],
   "source": [
    "model.compile(optimizer=\"adam\", \n",
    "              loss=\"mean_absolute_error\",\n",
    "              metrics=[\"accurary\"]\n",
    ")"
   ]
  },
  {
   "cell_type": "markdown",
   "metadata": {},
   "source": [
    "**Mean Squared Error**\n",
    "\n",
    "$Mean Squared Error (MSE) = {\\frac{1}{n}}{\\sum_{i=1}^{n} (y_i - {\\hat{y}_i})^2}$"
   ]
  },
  {
   "cell_type": "code",
   "execution_count": null,
   "metadata": {},
   "outputs": [],
   "source": [
    "model.compile(optimizer=\"adam\", \n",
    "              loss=\"mean_square_error\",\n",
    "              metrics=[\"accurary\"]\n",
    ")"
   ]
  },
  {
   "cell_type": "markdown",
   "metadata": {},
   "source": [
    "**Binary Cross Entropy**\n",
    "\n",
    "_Also known as log loss_\n",
    "\n",
    "$Binary Cross Entropy  = {\\frac{1}{n}}{\\sum_{i=1}^{n} y_i log({\\hat{y}_i}) + (1-y_i) \\cdot {\\log(1 - {\\hat{y_i}})}}$"
   ]
  },
  {
   "cell_type": "code",
   "execution_count": null,
   "metadata": {},
   "outputs": [],
   "source": [
    "model.compile(optimizer=\"adam\", \n",
    "              loss=\"binary_crossentropy\",\n",
    "              metrics=[\"accurary\"]\n",
    ")"
   ]
  },
  {
   "cell_type": "markdown",
   "metadata": {},
   "source": [
    "# Dropout Regularization\n",
    "---"
   ]
  },
  {
   "cell_type": "markdown",
   "metadata": {},
   "source": [
    "Why will dropout help with overfitting?\n",
    "- It can't rely on one input as it might be dropped out at random\n",
    "- Neurons will not learn redundant details of inputs"
   ]
  },
  {
   "cell_type": "markdown",
   "metadata": {},
   "source": [
    "### Example (adding Dropout layer on `keras`)"
   ]
  },
  {
   "cell_type": "code",
   "execution_count": null,
   "metadata": {},
   "outputs": [],
   "source": [
    "model = keras.Sequential([\n",
    "  # input layer\n",
    "  keras.layers.Dense(60, input_dim=60, activation=\"relu\"),\n",
    "  keras.layers.Dropout(0.5),\n",
    "  # hidden layer(s)\n",
    "  keras.layers.Dense(60, activation=\"relu\"),\n",
    "  keras.layers.Dropout(0.5),\n",
    "  # output layer\n",
    "  keras.layers.Dense(1, activation=\"sigmoid)\n",
    "])"
   ]
  }
 ],
 "metadata": {
  "language_info": {
   "name": "python"
  },
  "orig_nbformat": 4
 },
 "nbformat": 4,
 "nbformat_minor": 2
}
