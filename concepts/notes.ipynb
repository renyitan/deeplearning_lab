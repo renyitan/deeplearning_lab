{
 "cells": [
  {
   "cell_type": "markdown",
   "metadata": {},
   "source": [
    "# Loss Functions\n",
    "---"
   ]
  },
  {
   "cell_type": "markdown",
   "metadata": {},
   "source": [
    "**1. Mean Absolute Error**\n",
    "\n",
    "$\\text{Mean Absolute Error (MAE)} = {\\frac{1}{n}}{\\sum_{i=1}^{n} abs(y_i - {\\hat{y}_i})}$"
   ]
  },
  {
   "cell_type": "code",
   "execution_count": null,
   "metadata": {},
   "outputs": [],
   "source": [
    "model.compile(optimizer=\"adam\", \n",
    "              loss=\"mean_absolute_error\",\n",
    "              metrics=[\"accurary\"]\n",
    ")"
   ]
  },
  {
   "cell_type": "markdown",
   "metadata": {},
   "source": [
    "**2. Mean Squared Error**\n",
    "\n",
    "$\\text{Mean Squared Error (MSE)} = {\\frac{1}{n}}{\\sum_{i=1}^{n} (y_i - {\\hat{y}_i})^2}$"
   ]
  },
  {
   "cell_type": "code",
   "execution_count": null,
   "metadata": {},
   "outputs": [],
   "source": [
    "model.compile(optimizer=\"adam\", \n",
    "              loss=\"mean_square_error\",\n",
    "              metrics=[\"accurary\"]\n",
    ")"
   ]
  },
  {
   "cell_type": "markdown",
   "metadata": {},
   "source": [
    "**3. Binary Cross Entropy**\n",
    "\n",
    "_Also known as log loss_\n",
    "\n",
    "$\\text{Binary Cross Entropy}  = {\\frac{1}{n}}{\\sum_{i=1}^{n} y_i log({\\hat{y}_i}) + (1-y_i) \\cdot {\\log(1 - {\\hat{y_i}})}}$"
   ]
  },
  {
   "cell_type": "code",
   "execution_count": null,
   "metadata": {},
   "outputs": [],
   "source": [
    "model.compile(optimizer=\"adam\", \n",
    "              loss=\"binary_crossentropy\",\n",
    "              metrics=[\"accurary\"]\n",
    ")"
   ]
  },
  {
   "cell_type": "markdown",
   "metadata": {},
   "source": [
    "# Gradient Descent\n",
    "---"
   ]
  },
  {
   "cell_type": "markdown",
   "metadata": {},
   "source": [
    "### Batch Gradient Descent\n",
    "Use **all** training samples for one forward pass and then adjust weights\n",
    "\n",
    "\n",
    "<br>\n",
    "In each epoch, assuming _log loss_\n",
    "\n",
    "**1. Calculate weight**\n",
    "\n",
    "$w = w - \\alpha * \\frac{\\partial}{\\partial w }$,  \n",
    "<br>where $w$ = weight, $\\alpha$ = learning rate\n",
    "\n",
    "\n",
    "$\\frac{\\partial}{\\partial w } = {\\frac{1}{n}}{\\sum_{i=1}^{n} x_i log({y_{\\text predicted}} - y_\\text{true})}$\n",
    "\n",
    "<br>\n",
    "\n"
   ]
  },
  {
   "cell_type": "markdown",
   "metadata": {},
   "source": [
    "**2. Calculate bias**\n",
    "\n",
    "$bias = bias - \\alpha * \\frac{\\partial}{\\partial b }$,  \n",
    "<br>where $bias$ = bias, $\\alpha$ = learning rate\n",
    "\n",
    "\n",
    "$\\frac{\\partial}{\\partial b } = {\\frac{1}{n}}{\\sum_{i=1}^{n} ({y_{\\text predicted}} - y_\\text{true})}$\n",
    "\n",
    "<br>\n"
   ]
  },
  {
   "cell_type": "code",
   "execution_count": null,
   "metadata": {},
   "outputs": [],
   "source": [
    "def sigmoid(y):\n",
    "    ...\n",
    "\n",
    "def log_loss(y_true, y_predicted):\n",
    "    ..."
   ]
  },
  {
   "cell_type": "code",
   "execution_count": 1,
   "metadata": {},
   "outputs": [],
   "source": [
    "# Code Sample\n",
    "\n",
    "def batch_gradient_descent(X, y_true, epochs, learning_rate=0.01):\n",
    "\n",
    "    number_of_features = X.shape[1]\n",
    "    w = np.ones(shape=(number_of_features))\n",
    "    bias = 0\n",
    "    total_samples = X.shape[0]\n",
    "    cost_list = []\n",
    "    epoch_list = []\n",
    "\n",
    "    for i in range(epochs):\n",
    "        y_predicted = np.dot(w, X.T) + bias\n",
    "\n",
    "        # using mse loss\n",
    "        w_d = -(1/total_samples)*(X.T.dot(y_true-y_predicted))\n",
    "        bias_d = -(1/total_samples)*np.sum(y_true-y_predicted)\n",
    "\n",
    "        w = w - learning_rate * w_d\n",
    "        bias = bias - learning_rate * bias_d\n",
    "\n",
    "        cost = np.mean(np.square(y_true - y_predicted))\n",
    "\n",
    "        if(i%10 == 0):\n",
    "            cost_list.append(cost)\n",
    "            epoch_list.append(i)\n",
    "    return w, bias, cost,cost_list, epoch_list\n",
    "\n"
   ]
  },
  {
   "cell_type": "markdown",
   "metadata": {},
   "source": [
    "### Stochastic Gradient Descent\n",
    "Use one (randomly picked) sample for a forward pass and then adjust weights"
   ]
  },
  {
   "cell_type": "code",
   "execution_count": 3,
   "metadata": {},
   "outputs": [],
   "source": [
    "# Code sample\n",
    "\n",
    "def stochastic_gradient_descent(X, y_true, epochs, learning_rate=0.01):\n",
    "    number_of_features = X.shape[1]\n",
    "    w = np.ones(shape=(number_of_features))\n",
    "    bias = 0\n",
    "    total_samples = X.shape[0]\n",
    "\n",
    "    cost_list = []\n",
    "    epoch_list = []\n",
    "\n",
    "    for i in range(epochs):\n",
    "        # get random index from X -- stochastic\n",
    "        random_index = random.randint(0, total_samples-1)\n",
    "        sample_X = X[random_index]\n",
    "        sample_y = y_true[random_index]\n",
    "\n",
    "        y_predicted = np.dot(w, sample_X.T) + bias\n",
    "\n",
    "        # using mse loss\n",
    "        w_d = -(2/total_samples)*(sample_X.T.dot(sample_y-y_predicted))\n",
    "        bias_d = -(2/total_samples)*(sample_y-y_predicted)\n",
    "\n",
    "        w = w - learning_rate * w_d\n",
    "        bias = bias - learning_rate * bias_d\n",
    "\n",
    "        cost = np.mean(np.square(sample_y - y_predicted))\n",
    "\n",
    "        if(i % 100 == 0):\n",
    "            cost_list.append(cost)\n",
    "            epoch_list.append(i)\n",
    "        \n",
    "    return w, b, cost, cost_list, epoch_list\n"
   ]
  },
  {
   "cell_type": "markdown",
   "metadata": {},
   "source": [
    "# Dropout Regularization\n",
    "---"
   ]
  },
  {
   "cell_type": "markdown",
   "metadata": {},
   "source": [
    "Why will dropout help with overfitting?\n",
    "- It can't rely on one input as it might be dropped out at random\n",
    "- Neurons will not learn redundant details of inputs"
   ]
  },
  {
   "cell_type": "markdown",
   "metadata": {},
   "source": [
    "### Example (adding Dropout layer on `keras`)"
   ]
  },
  {
   "cell_type": "code",
   "execution_count": null,
   "metadata": {},
   "outputs": [],
   "source": [
    "model = keras.Sequential([\n",
    "  # input layer\n",
    "  keras.layers.Dense(60, input_dim=60, activation=\"relu\"),\n",
    "  keras.layers.Dropout(0.5),\n",
    "  # hidden layer(s)\n",
    "  keras.layers.Dense(60, activation=\"relu\"),\n",
    "  keras.layers.Dropout(0.5),\n",
    "  # output layer\n",
    "  keras.layers.Dense(1, activation=\"sigmoid)\n",
    "])"
   ]
  }
 ],
 "metadata": {
  "interpreter": {
   "hash": "31f2aee4e71d21fbe5cf8b01ff0e069b9275f58929596ceb00d14d90e3e16cd6"
  },
  "kernelspec": {
   "display_name": "Python 3.8.9 64-bit",
   "language": "python",
   "name": "python3"
  },
  "language_info": {
   "codemirror_mode": {
    "name": "ipython",
    "version": 3
   },
   "file_extension": ".py",
   "mimetype": "text/x-python",
   "name": "python",
   "nbconvert_exporter": "python",
   "pygments_lexer": "ipython3",
   "version": "3.8.9"
  },
  "orig_nbformat": 4
 },
 "nbformat": 4,
 "nbformat_minor": 2
}
