{
 "cells": [
  {
   "cell_type": "code",
   "execution_count": 2,
   "metadata": {},
   "outputs": [],
   "source": [
    "import nltk"
   ]
  },
  {
   "cell_type": "code",
   "execution_count": 3,
   "metadata": {},
   "outputs": [],
   "source": [
    "paragraph = \"\"\"The Monetary Authority of Singapore(MAS) came into being 50 years ago. It was conceived as a dedicated organisation to carry out the specialised functions of central banking and financial regulation. MAS’ responsibilities have expanded considerably since its inception, but its policy objectives remain the same. Low inflation, in support of sustained economic growth. Healthy official foreign reserves, a sound financial sector, resilient against shocks and a vibrant international financial centre, adding value and creating jobs. MAS has played a major role in Singapore’s economic and financial development. Its monetary policies and management of official reserves have sustained macroeconomic stability and confidence in Singapore. Its regulation and supervision of financial institutions have created a safe and internationally trusted financial system and its development strategies have made the financial sector an engine of growth, attracting investments and creating many good jobs. Key to this was MAS’ combination of caution and creativity: It adhered to sound economic principles, while creatively adapting policy frameworks to suit Singapore’s context. It set high regulatory and supervisory standards, while taking a facilitative and risk-proportionate approach. It ensured financial stability, while promoting innovation and seizing opportunities. MAS did not achieve this alone. It shares credit for the success with the broader Singapore system within which MAS operates. It enjoys the political stability, healthy public finances, good public administration, and the rule of law. These all enabled MAS to pursue its objectives, single-mindedly and professionally. MAS also collaborated closely with the private sector, tapping on industry expertise, listening carefully to feedback, co-creating infrastructure and solutions, and jointly promoting the development of financial markets.\"\"\""
   ]
  },
  {
   "cell_type": "markdown",
   "metadata": {},
   "source": [
    "## Bag of Words"
   ]
  },
  {
   "cell_type": "code",
   "execution_count": 16,
   "metadata": {},
   "outputs": [
    {
     "data": {
      "text/plain": [
       "['The Monetary Authority of Singapore(MAS) came into being 50 years ago.',\n",
       " 'It was conceived as a dedicated organisation to carry out the specialised functions of central banking and financial regulation.',\n",
       " 'MAS’ responsibilities have expanded considerably since its inception, but its policy objectives remain the same.',\n",
       " 'Low inflation, in support of sustained economic growth.',\n",
       " 'Healthy official foreign reserves, a sound financial sector, resilient against shocks and a vibrant international financial centre, adding value and creating jobs.']"
      ]
     },
     "execution_count": 16,
     "metadata": {},
     "output_type": "execute_result"
    }
   ],
   "source": [
    "# cleaning the text\n",
    "import re\n",
    "from nltk.corpus import stopwords\n",
    "from nltk.stem.porter import PorterStemmer\n",
    "from nltk.stem import WordNetLemmatizer\n",
    "\n",
    "stemmer = PorterStemmer()\n",
    "lemmatizer = WordNetLemmatizer()\n",
    "\n",
    "sentences = nltk.sent_tokenize(paragraph)\n",
    "sentences[:5]"
   ]
  },
  {
   "cell_type": "code",
   "execution_count": 20,
   "metadata": {},
   "outputs": [
    {
     "data": {
      "text/plain": [
       "['monetary authority singapore ma came year ago',\n",
       " 'conceived dedicated organisation carry specialised function central banking financial regulation',\n",
       " 'ma responsibility expanded considerably since inception policy objective remain',\n",
       " 'low inflation support sustained economic growth',\n",
       " 'healthy official foreign reserve sound financial sector resilient shock vibrant international financial centre adding value creating job']"
      ]
     },
     "execution_count": 20,
     "metadata": {},
     "output_type": "execute_result"
    }
   ],
   "source": [
    "#  store cleaned text in corpus using stemmer\n",
    "# can also use lemmatizer\n",
    "corpus = []\n",
    "\n",
    "for i in range(len(sentences)):\n",
    "    text = re.sub('[^a-zA-Z]', ' ', sentences[i])\n",
    "    text = text.lower()\n",
    "    text = text.split()\n",
    "    text = [lemmatizer.lemmatize(t) for t in text if t not in set(stopwords.words('english'))]\n",
    "    text = ' '.join(text)\n",
    "    corpus.append(text)\n",
    "\n",
    "corpus[:5]"
   ]
  },
  {
   "cell_type": "code",
   "execution_count": 30,
   "metadata": {},
   "outputs": [
    {
     "data": {
      "text/plain": [
       "array([[0, 0, 0, 0, 0, 1, 0, 0, 0, 0, 1, 0, 0, 1, 0, 0, 0, 0, 0, 0, 0, 0,\n",
       "        0, 0, 0, 0, 0, 0, 0, 0, 0, 0, 0, 0, 0, 0, 0, 0, 0, 0, 0, 0, 0, 0,\n",
       "        0, 0, 0, 0, 0, 0, 0, 0, 0, 0, 0, 0, 0, 0, 0, 0, 0, 0, 0, 0, 0, 0,\n",
       "        0, 1, 0, 0, 0, 0, 0, 0, 0, 1, 0, 0, 0, 0, 0, 0, 0, 0, 0, 0, 0, 0,\n",
       "        0, 0, 0, 0, 0, 0, 0, 0, 0, 0, 0, 0, 0, 0, 0, 0, 0, 0, 0, 1, 0, 0,\n",
       "        0, 0, 0, 0, 0, 0, 0, 0, 0, 0, 0, 0, 0, 0, 0, 0, 0, 0, 1],\n",
       "       [0, 0, 0, 0, 0, 0, 0, 0, 0, 0, 0, 1, 0, 0, 0, 1, 0, 1, 0, 0, 0, 0,\n",
       "        0, 1, 0, 0, 0, 0, 0, 0, 0, 0, 1, 0, 0, 0, 0, 0, 0, 0, 0, 0, 0, 0,\n",
       "        1, 0, 0, 1, 0, 0, 0, 0, 0, 0, 0, 0, 0, 0, 0, 0, 0, 0, 0, 0, 0, 0,\n",
       "        0, 0, 0, 0, 0, 0, 0, 0, 0, 0, 0, 0, 0, 0, 1, 0, 0, 0, 0, 0, 0, 0,\n",
       "        0, 0, 0, 1, 0, 0, 0, 0, 0, 0, 0, 0, 0, 0, 0, 0, 0, 0, 0, 0, 0, 0,\n",
       "        0, 1, 0, 0, 0, 0, 0, 0, 0, 0, 0, 0, 0, 0, 0, 0, 0, 0, 0]])"
      ]
     },
     "execution_count": 30,
     "metadata": {},
     "output_type": "execute_result"
    }
   ],
   "source": [
    "# create bag of words / featurised model\n",
    "from sklearn.feature_extraction.text import CountVectorizer\n",
    "cv = CountVectorizer()\n",
    "X = cv.fit_transform(corpus).toarray()\n",
    "X[:2]"
   ]
  },
  {
   "cell_type": "code",
   "execution_count": null,
   "metadata": {},
   "outputs": [],
   "source": []
  }
 ],
 "metadata": {
  "interpreter": {
   "hash": "4bd624a0593993fe43ac4046b27b898fb2ef75c21c08f81e89e64ea0f51df676"
  },
  "kernelspec": {
   "display_name": "Python 3.9.7 64-bit ('tensorflow': conda)",
   "language": "python",
   "name": "python3"
  },
  "language_info": {
   "codemirror_mode": {
    "name": "ipython",
    "version": 3
   },
   "file_extension": ".py",
   "mimetype": "text/x-python",
   "name": "python",
   "nbconvert_exporter": "python",
   "pygments_lexer": "ipython3",
   "version": "3.9.7"
  },
  "orig_nbformat": 4
 },
 "nbformat": 4,
 "nbformat_minor": 2
}
