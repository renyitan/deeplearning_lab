{
  "cells": [
    {
      "cell_type": "code",
      "execution_count": null,
      "metadata": {
        "id": "FAsfljRkcSI1"
      },
      "outputs": [],
      "source": [
        "import matplotlib.pyplot as plt\n",
        "import numpy as np\n",
        "import cv2\n",
        "import os\n",
        "import tensorflow as tf\n",
        "from tensorflow import keras"
      ]
    },
    {
      "cell_type": "code",
      "execution_count": null,
      "metadata": {
        "id": "nXuoivNpckW1"
      },
      "outputs": [],
      "source": [
        "# Download dataset\n",
        "dataset_url = \"https://storage.googleapis.com/download.tensorflow.org/example_images/flower_photos.tgz\"\n",
        "data_dir = tf.keras.utils.get_file(\n",
        "    'flower_photos', origin=dataset_url, cache_dir=\".\", untar=True)\n"
      ]
    },
    {
      "cell_type": "code",
      "execution_count": null,
      "metadata": {
        "colab": {
          "base_uri": "https://localhost:8080/",
          "height": 35
        },
        "id": "7wG54D7Tcswq",
        "outputId": "2694063f-02aa-4eb1-8bbd-3a0f08a27f74"
      },
      "outputs": [],
      "source": [
        "data_dir"
      ]
    },
    {
      "cell_type": "code",
      "execution_count": null,
      "metadata": {
        "colab": {
          "base_uri": "https://localhost:8080/"
        },
        "id": "DuBqeZ33cv5Q",
        "outputId": "3598c20a-5d9e-493d-fc1b-78e68bb0909d"
      },
      "outputs": [],
      "source": [
        "import pathlib\n",
        "data_dir = pathlib.Path(data_dir)\n",
        "data_dir"
      ]
    },
    {
      "cell_type": "code",
      "execution_count": null,
      "metadata": {
        "colab": {
          "base_uri": "https://localhost:8080/"
        },
        "id": "xDT0t8aEcyVs",
        "outputId": "6178dc22-4914-450f-84ad-746be3606139"
      },
      "outputs": [],
      "source": [
        "roses_list = list(data_dir.glob('roses/*'))\n",
        "roses_list[:5]"
      ]
    },
    {
      "cell_type": "code",
      "execution_count": null,
      "metadata": {
        "id": "5qhsveL7c4OT"
      },
      "outputs": [],
      "source": [
        "#  read flowers from disk into numpy array using openCV\n",
        "\n",
        "flowers_image_dict = {\n",
        "    'roses': list(data_dir.glob(\"roses/*\")),\n",
        "    'daisy': list(data_dir.glob('daisy/*')),\n",
        "    'dandelion': list(data_dir.glob('dandelion/*')),\n",
        "    'sunflowers': list(data_dir.glob('sunflowers/*')),\n",
        "    'tulips': list(data_dir.glob('tulips/*')),\n",
        "}\n",
        "\n",
        "flowers_label_dict = {\n",
        "    'roses': 0,\n",
        "    'daisy': 1,\n",
        "    'dandelion': 2,\n",
        "    'sunflowers': 3,\n",
        "    'tulips': 4,\n",
        "}\n"
      ]
    },
    {
      "cell_type": "code",
      "execution_count": null,
      "metadata": {
        "id": "R0HH3EjGc763"
      },
      "outputs": [],
      "source": [
        "# create your X and y\n",
        "X,y = [],[]\n",
        "\n",
        "for flower_name, images in flowers_image_dict.items():\n",
        "    for image in images:\n",
        "        img = cv2.imread(str(image))\n",
        "        resized = cv2.resize(img, (180,180))\n",
        "        X.append(resized)\n",
        "        y.append(flowers_label_dict[flower_name])\n",
        "\n",
        "X = np.array(X)\n",
        "y = np.array(y)\n",
        "\n",
        "\n"
      ]
    },
    {
      "cell_type": "code",
      "execution_count": null,
      "metadata": {
        "id": "y8SwMmw3c87V"
      },
      "outputs": [],
      "source": [
        "# train, test, split\n",
        "from sklearn.model_selection import train_test_split\n",
        "\n",
        "X_train, x_test, y_train, y_test = train_test_split(X, y, test_size=0.2, random_state=0)\n"
      ]
    },
    {
      "cell_type": "code",
      "execution_count": null,
      "metadata": {
        "id": "cw-VOngzc_9Q"
      },
      "outputs": [],
      "source": [
        "# scaling\n",
        "\n",
        "X_train = X_train / 255\n",
        "x_test = x_test / 255"
      ]
    },
    {
      "cell_type": "code",
      "execution_count": null,
      "metadata": {
        "id": "5fpvV0G6dBE4"
      },
      "outputs": [],
      "source": [
        "num_classes = 5\n",
        "\n",
        "data_augmentation = keras.Sequential(\n",
        "  [\n",
        "    keras.layers.experimental.preprocessing.RandomFlip(\"horizontal\", \n",
        "                                                 input_shape=(180, \n",
        "                                                              180,\n",
        "                                                              3)),\n",
        "    keras.layers.experimental.preprocessing.RandomRotation(0.1),\n",
        "    keras.layers.experimental.preprocessing.RandomZoom(0.1),\n",
        "  ]\n",
        ")\n",
        "\n",
        "cnn = keras.models.Sequential([\n",
        "data_augmentation,\n",
        "  keras.layers.Conv2D(16, 3, padding='same', activation='relu'),\n",
        "  keras.layers.MaxPooling2D(),\n",
        "  keras.layers.Conv2D(32, 3, padding='same', activation='relu'),\n",
        "  keras.layers.MaxPooling2D(),\n",
        "  keras.layers.Conv2D(64, 3, padding='same', activation='relu'),\n",
        "  keras.layers.MaxPooling2D(),\n",
        "  keras.layers.Dropout(0.2),\n",
        "  keras.layers.Flatten(),\n",
        "  keras.layers.Dense(128, activation='relu'),\n",
        "  keras.layers.Dense(num_classes)\n",
        "])\n",
        "\n",
        "cnn.compile(optimizer='adam',\n",
        "              loss=tf.keras.losses.SparseCategoricalCrossentropy(from_logits=True),\n",
        "              metrics=['accuracy'])\n"
      ]
    },
    {
      "cell_type": "code",
      "execution_count": null,
      "metadata": {
        "colab": {
          "base_uri": "https://localhost:8080/"
        },
        "id": "M2EEFqu5dCHK",
        "outputId": "f8177f1a-6c59-433f-8bf6-17a66346450e"
      },
      "outputs": [],
      "source": [
        "cnn.fit(X_train, y_train, epochs=10)"
      ]
    },
    {
      "cell_type": "code",
      "execution_count": null,
      "metadata": {
        "colab": {
          "base_uri": "https://localhost:8080/"
        },
        "id": "xMtIRFI0dDLq",
        "outputId": "1f2a4839-53f9-4712-fcb4-e21f5a77764c"
      },
      "outputs": [],
      "source": [
        "cnn.evaluate(x_test, y_test)"
      ]
    },
    {
      "cell_type": "code",
      "execution_count": null,
      "metadata": {
        "id": "C1iO7JXwiCcs"
      },
      "outputs": [],
      "source": [
        "y_predict = cnn.predict(x_test)\n"
      ]
    },
    {
      "cell_type": "code",
      "execution_count": null,
      "metadata": {
        "colab": {
          "base_uri": "https://localhost:8080/"
        },
        "id": "5jBB0BEHiHYp",
        "outputId": "cd9495bf-9b3b-4f45-b0fc-14654ff3f11c"
      },
      "outputs": [],
      "source": [
        "y_answer = [np.argmax(elements) for elements in y_predict]\n",
        "y_answer[:10]"
      ]
    },
    {
      "cell_type": "code",
      "execution_count": null,
      "metadata": {
        "colab": {
          "base_uri": "https://localhost:8080/"
        },
        "id": "dpErSegzibPp",
        "outputId": "f17d5f9e-1b82-4dba-c0ce-2325507a42b0"
      },
      "outputs": [],
      "source": [
        "y_test[:10]"
      ]
    },
    {
      "cell_type": "code",
      "execution_count": null,
      "metadata": {
        "id": "WcKKNzDHifGI"
      },
      "outputs": [],
      "source": []
    }
  ],
  "metadata": {
    "colab": {
      "name": "cnn_flowers.ipynb",
      "provenance": []
    },
    "kernelspec": {
      "display_name": "Python 3",
      "name": "python3"
    },
    "language_info": {
      "name": "python",
      "version": "3.9.7"
    }
  },
  "nbformat": 4,
  "nbformat_minor": 0
}
